{
 "cells": [
  {
   "cell_type": "code",
   "execution_count": null,
   "id": "74321946-f207-482a-a60f-5d00e3521f07",
   "metadata": {},
   "outputs": [],
   "source": [
    "'''Q1. Explain Class and Object with respect to Object-Oriented Programming. Give a suitable example.'''\n",
    "\n",
    "Class:  A class is a blueprint or template that defines the structure and behavior of objects. \n",
    "\n",
    "Object: An object is an instance of a class, representing a specific, tangible entity. \n",
    "        Objects have their own unique data values for attributes and can execute methods defined in their class."
   ]
  },
  {
   "cell_type": "code",
   "execution_count": 1,
   "id": "3aac08dc-bd57-40fa-bf55-ff6d5543669c",
   "metadata": {},
   "outputs": [
    {
     "name": "stdout",
     "output_type": "stream",
     "text": [
      "Toyota\n",
      "Accord\n"
     ]
    }
   ],
   "source": [
    "class Car:\n",
    "    def __init__(self, make, model):\n",
    "        self.make = make\n",
    "        self.model = model\n",
    "\n",
    "car1 = Car(\"Toyota\", \"Fortuner\")\n",
    "car2 = Car(\"Honda\", \"Accord\")\n",
    "\n",
    "\n",
    "print(car1.make)\n",
    "print(car2.model)  \n"
   ]
  },
  {
   "cell_type": "code",
   "execution_count": null,
   "id": "de909dd3-548d-44f8-bb66-696cc81a3c6b",
   "metadata": {},
   "outputs": [],
   "source": [
    "'''Name the four pillars of OOPs.'''\n",
    "\n",
    "abstraction - is the process of hiding unnecessary details of an object’s internal structure. \n",
    "            By abstracting an object’s data, its structure and behavior can be kept separate and more easily understood.\n",
    "Encapsulation - is the process of wrapping data and related functions into a single unit (object).\n",
    "                Encapsulation limits access to object data and methods, preventing their misuse and ensuring their proper functioning.\n",
    "Inheritance -  is the ability to create a new class (child class) from an existing one (parent class).\n",
    "               The child class typically inherits the attributes (members and methods) of the parent class, although it can also redefine them. \n",
    "Polymorphism -  is the ability of an object to take on multiple forms. \n",
    "                This allows objects of different classes to be used interchangeably"
   ]
  },
  {
   "cell_type": "code",
   "execution_count": null,
   "id": "37d152fb-e6d5-4823-836f-b136201daad0",
   "metadata": {},
   "outputs": [],
   "source": [
    "'''Q3. Explain why the __init__() function is used. Give a suitable example.'''\n",
    "\n",
    "\n",
    "The __init__() function, also known as the constructor, is used in Python to initialize the attributes of an object when it is created from a class. \n",
    "It is called automatically when an object is instantiated from a class and allows you to set initial values for the object's attributes."
   ]
  },
  {
   "cell_type": "code",
   "execution_count": 2,
   "id": "b6a3b666-70bd-4129-abbe-8d4c7221be0c",
   "metadata": {},
   "outputs": [
    {
     "name": "stdout",
     "output_type": "stream",
     "text": [
      "Buddy\n",
      "Golden Retriever\n"
     ]
    }
   ],
   "source": [
    "class Dog:\n",
    "    def __init__(self, name, breed):\n",
    "        self.name = name\n",
    "        self.breed = breed\n",
    "        \n",
    "my_dog = Dog(\"Buddy\", \"Golden Retriever\")\n",
    "\n",
    "print(my_dog.name)\n",
    "print(my_dog.breed)  \n"
   ]
  },
  {
   "cell_type": "code",
   "execution_count": null,
   "id": "fd1474c2-3e5d-4eb4-afee-cee99c5061c1",
   "metadata": {},
   "outputs": [],
   "source": [
    "'''Q4. Why self is used in OOPs?'''\n",
    "\n",
    "self is used to access and work with the attributes and methods of an object from within the class to which the object belongs."
   ]
  },
  {
   "cell_type": "code",
   "execution_count": null,
   "id": "1f1ea19b-c828-47b6-8651-daf9e4296fe2",
   "metadata": {},
   "outputs": [],
   "source": [
    "'''Q5. What is inheritance? Give an example for each type of inheritance.'''\n",
    "\n",
    "Inheritance is a fundamental concept in Object-Oriented Programming (OOP) that allows a new class (called the derived or subclass) \n",
    "  to inherit properties and behaviors (attributes and methods) from an existing class (called the base or superclass). \n",
    "  Inheritance promotes code reuse and the creation of class hierarchies."
   ]
  },
  {
   "cell_type": "code",
   "execution_count": 3,
   "id": "68f69bfa-c2e5-4fe5-8151-cf6aa41b56d3",
   "metadata": {},
   "outputs": [
    {
     "name": "stdout",
     "output_type": "stream",
     "text": [
      "roar!\n"
     ]
    }
   ],
   "source": [
    "#Single inheritence\n",
    "\n",
    "class Animal:\n",
    "    def speak(self):\n",
    "        pass\n",
    "\n",
    "class Lion(Animal):\n",
    "    def speak(self):\n",
    "        return \"roar!\"\n",
    "\n",
    "my_lion = Lion()\n",
    "print(my_lion.speak()) \n"
   ]
  },
  {
   "cell_type": "code",
   "execution_count": null,
   "id": "2acce6a8-74ba-4e91-8874-5a4219b53596",
   "metadata": {},
   "outputs": [],
   "source": []
  },
  {
   "cell_type": "code",
   "execution_count": null,
   "id": "be01abf3-daea-4644-b2a8-84782c6470e5",
   "metadata": {},
   "outputs": [],
   "source": []
  },
  {
   "cell_type": "code",
   "execution_count": null,
   "id": "d0b451fd-5b64-47d4-a527-8f603443c290",
   "metadata": {},
   "outputs": [],
   "source": []
  }
 ],
 "metadata": {
  "kernelspec": {
   "display_name": "Python 3 (ipykernel)",
   "language": "python",
   "name": "python3"
  },
  "language_info": {
   "codemirror_mode": {
    "name": "ipython",
    "version": 3
   },
   "file_extension": ".py",
   "mimetype": "text/x-python",
   "name": "python",
   "nbconvert_exporter": "python",
   "pygments_lexer": "ipython3",
   "version": "3.10.8"
  }
 },
 "nbformat": 4,
 "nbformat_minor": 5
}
